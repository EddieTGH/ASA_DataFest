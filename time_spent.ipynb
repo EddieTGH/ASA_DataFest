{
 "cells": [
  {
   "cell_type": "markdown",
   "id": "0f74a818-0d12-4447-a9e3-82d73244b709",
   "metadata": {},
   "source": [
    "# {Student id : [Time spent]}"
   ]
  },
  {
   "cell_type": "code",
   "execution_count": 1,
   "id": "2269383f-cf34-48e9-b5e5-5a924760cd39",
   "metadata": {},
   "outputs": [],
   "source": [
    "import matplotlib.pyplot as plt\n",
    "import numpy as np\n",
    "import pandas as pd\n",
    "import math"
   ]
  },
  {
   "cell_type": "code",
   "execution_count": 2,
   "id": "32cb3e0c-2cf3-41cf-ae8f-91a1d504582c",
   "metadata": {},
   "outputs": [],
   "source": [
    "import os\n",
    "#path = \"~/data/Data Files\"\n",
    "#test_path = \"~/data/Random Sample of Data files\"\n",
    "#test_df_path = os.path.join(test_path, \"responses.csv\")\n",
    "#test_cpoints_path = os.path.join(test_path, \"checkpoints.csv\")\n",
    "test_pviews = 'random subset of data files/page_views.csv'"
   ]
  },
  {
   "cell_type": "code",
   "execution_count": 3,
   "id": "43d7954d-033d-4876-86f2-7dda56035222",
   "metadata": {},
   "outputs": [],
   "source": [
    "def read_page_views(df_path):\n",
    "    df = pd.read_csv(df_path)\n",
    "    global students, students_unique, response, chap_num, time_engaged\n",
    "    students = df[\"student_id\"].tolist()\n",
    "    students_unique = list(set(df[\"student_id\"]))\n",
    "    chap_num = df[\"chapter_number\"].tolist()\n",
    "    time_engaged = df[\"engaged\"].tolist()\n",
    "    \n",
    "# build a dictionary of student_id:[chapter's_time_spent_reading]\n",
    "# Chapter 1 starts at index 0!\n",
    "def reading_time():\n",
    "    reading_time_dict = {}\n",
    "    for i in range(len(students)):\n",
    "        chapter = chap_num[i]\n",
    "        etime = time_engaged[i]\n",
    "        if math.isnan(etime) or math.isnan(chapter):\n",
    "            continue\n",
    "        stu = students[i]\n",
    "        if stu not in reading_time_dict.keys():\n",
    "            reading_time_dict[stu] = [0 for i in range(16)]\n",
    "        reading_time_dict[stu][int(chapter)-1]+=etime\n",
    "    return reading_time_dict\n",
    "\n",
    "def total_time(student_dict):\n",
    "    new_dict = {}\n",
    "    for stu in student_dict:\n",
    "        new_dict[stu] = sum(student_dict[stu])\n",
    "    return new_dict\n"
   ]
  },
  {
   "cell_type": "markdown",
   "id": "b0dd61a5-a5a6-43c7-ab5f-8e9934d29842",
   "metadata": {},
   "source": [
    "Student id: Time spent by chapter:"
   ]
  },
  {
   "cell_type": "markdown",
   "id": "46ed9fe1-3c11-4182-ac45-cc082a7c6525",
   "metadata": {},
   "source": [
    "Student id: Total time spent:"
   ]
  },
  {
   "cell_type": "code",
   "execution_count": 5,
   "id": "8705b895-e7bf-4984-b630-53752d0ff7cc",
   "metadata": {},
   "outputs": [
    {
     "name": "stdout",
     "output_type": "stream",
     "text": [
      "[('988aaef5-55d8-4efd-a2aa-8a17e687965e', 32009232.0), ('bb3d0834-83be-4158-8d8e-6230178074a8', 18102092.0), ('c985759c-1ed2-4964-8c29-e17a0844e44a', 91855779.0), ('0556b794-cd80-4af6-8cfa-8055462c215a', 160615765.0), ('062f021e-8297-41e6-a8fe-54a382ab7404', 102377768.0)]\n"
     ]
    }
   ],
   "source": [
    "totaldict = total_time(mydict)\n",
    "print([(k,totaldict[k]) for k in list(totaldict.keys())[:5]])"
   ]
  }
 ],
 "metadata": {
  "kernelspec": {
   "display_name": "Python 3 (ipykernel)",
   "language": "python",
   "name": "python3"
  },
  "language_info": {
   "codemirror_mode": {
    "name": "ipython",
    "version": 3
   },
   "file_extension": ".py",
   "mimetype": "text/x-python",
   "name": "python",
   "nbconvert_exporter": "python",
   "pygments_lexer": "ipython3",
   "version": "3.11.5"
  }
 },
 "nbformat": 4,
 "nbformat_minor": 5
}
