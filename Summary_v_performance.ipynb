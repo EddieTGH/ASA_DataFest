{
 "cells": [
  {
   "cell_type": "code",
   "execution_count": 1,
   "id": "24e2aa4a-e29a-4b4a-ae92-47a8b987e04e",
   "metadata": {},
   "outputs": [
    {
     "name": "stderr",
     "output_type": "stream",
     "text": [
      "[nltk_data] Downloading package punkt to /Users/edmondniu/nltk_data...\n",
      "[nltk_data]   Package punkt is already up-to-date!\n",
      "[nltk_data] Downloading package stopwords to\n",
      "[nltk_data]     /Users/edmondniu/nltk_data...\n",
      "[nltk_data]   Package stopwords is already up-to-date!\n",
      "[nltk_data] Downloading package averaged_perceptron_tagger to\n",
      "[nltk_data]     /Users/edmondniu/nltk_data...\n",
      "[nltk_data]   Package averaged_perceptron_tagger is already up-to-\n",
      "[nltk_data]       date!\n"
     ]
    },
    {
     "data": {
      "text/plain": [
       "True"
      ]
     },
     "execution_count": 1,
     "metadata": {},
     "output_type": "execute_result"
    }
   ],
   "source": [
    "import numpy as np\n",
    "import sklearn as sk\n",
    "import pandas as pd\n",
    "import matplotlib.pyplot as plt\n",
    "import nltk\n",
    "from scipy.optimize import curve_fit\n",
    "from nltk import pos_tag\n",
    "from nltk.tokenize import word_tokenize\n",
    "from nltk.probability import FreqDist\n",
    "from nltk.corpus import stopwords\n",
    "from sklearn.pipeline import make_pipeline\n",
    "from sklearn.linear_model import LinearRegression\n",
    "from sklearn.preprocessing import PolynomialFeatures\n",
    "nltk.download('punkt')\n",
    "nltk.download('stopwords')\n",
    "nltk.download('averaged_perceptron_tagger')"
   ]
  },
  {
   "cell_type": "code",
   "execution_count": 2,
   "id": "26fd5dc6-83f8-479e-8202-a6672ead4dd7",
   "metadata": {},
   "outputs": [
    {
     "name": "stderr",
     "output_type": "stream",
     "text": [
      "/var/folders/qq/qm2zshms6rl57mb9s95rh3xc0000gn/T/ipykernel_3691/971401047.py:1: DtypeWarning: Columns (32,33,34,35,36,37,38,39) have mixed types. Specify dtype option on import or set low_memory=False.\n",
      "  sub_responses = pd.read_csv('Data files/responses.csv')\n"
     ]
    },
    {
     "name": "stdout",
     "output_type": "stream",
     "text": [
      "student_id\n",
      "9455ad1a-55b6-44a1-82bc-7d21bc948f5c    2694\n",
      "43cbccae-8a82-401c-a38d-9f43bbc5a163    2663\n",
      "249ad276-075d-4dba-81a2-c375860e29ce    2607\n",
      "7867fc31-3814-4d08-8d68-0336c3df8649    2587\n",
      "843dd9e2-98fd-4fce-9ac2-bcbe7ef7ee88    2586\n",
      "                                        ... \n",
      "2c9302b9-aa06-43b5-a39c-69405cd49b45       5\n",
      "d6f2bf22-a116-4212-a657-8aa70e4ad866       4\n",
      "7a26ed43-861a-41e6-8193-0bc925ab3c5a       4\n",
      "77eb2c8b-cd76-4f9d-9e66-9a8662cb1753       3\n",
      "6d566358-f02f-436c-aba1-e0afd3b5bdd7       2\n",
      "Name: count, Length: 1625, dtype: int64\n"
     ]
    }
   ],
   "source": [
    "sub_responses = pd.read_csv('Data files/responses.csv')\n",
    "sub_checkpoints = pd.read_csv('Data files/checkpoints.csv')\n",
    "check_df = pd.DataFrame(sub_checkpoints)\n",
    "df = pd.DataFrame(sub_responses)\n",
    "counts = df[\"student_id\"].value_counts()\n",
    "print(counts)"
   ]
  },
  {
   "cell_type": "code",
   "execution_count": 3,
   "id": "3a29191b-6776-42eb-aae1-585a34acaea5",
   "metadata": {},
   "outputs": [],
   "source": [
    "df[\"prompt\"] = df[\"prompt\"].fillna(\"\")\n",
    "filtered_df = df[df[\"prompt\"].str.contains(\"summarize\")]\n",
    "filtered_df = filtered_df[[\"prompt\",\"response\", \"student_id\", \"chapter_number\"]]"
   ]
  },
  {
   "cell_type": "code",
   "execution_count": 4,
   "id": "c003b455-90da-477d-a5a6-941e6915cd6f",
   "metadata": {},
   "outputs": [
    {
     "data": {
      "text/html": [
       "<div>\n",
       "<style scoped>\n",
       "    .dataframe tbody tr th:only-of-type {\n",
       "        vertical-align: middle;\n",
       "    }\n",
       "\n",
       "    .dataframe tbody tr th {\n",
       "        vertical-align: top;\n",
       "    }\n",
       "\n",
       "    .dataframe thead th {\n",
       "        text-align: right;\n",
       "    }\n",
       "</style>\n",
       "<table border=\"1\" class=\"dataframe\">\n",
       "  <thead>\n",
       "    <tr style=\"text-align: right;\">\n",
       "      <th></th>\n",
       "      <th>prompt</th>\n",
       "      <th>response</th>\n",
       "      <th>student_id</th>\n",
       "      <th>chapter_number</th>\n",
       "    </tr>\n",
       "  </thead>\n",
       "  <tbody>\n",
       "    <tr>\n",
       "      <th>6348</th>\n",
       "      <td>In a paragraph, summarize the main idea(s) in ...</td>\n",
       "      <td>This chapter taught us the goals of this class...</td>\n",
       "      <td>83df1b22-c83a-4412-8e27-1c113bd17907</td>\n",
       "      <td>1.0</td>\n",
       "    </tr>\n",
       "    <tr>\n",
       "      <th>6349</th>\n",
       "      <td>In a paragraph, summarize the main idea(s) in ...</td>\n",
       "      <td>Statistical model\\nStatistics is profound by s...</td>\n",
       "      <td>dee74669-b1ed-41df-bf06-177c5766071d</td>\n",
       "      <td>1.0</td>\n",
       "    </tr>\n",
       "    <tr>\n",
       "      <th>6350</th>\n",
       "      <td>In a paragraph, summarize the main idea(s) in ...</td>\n",
       "      <td>The thing to remember when coding in general i...</td>\n",
       "      <td>1d4a6d2c-0cb1-4d19-9218-b673982e9f2f</td>\n",
       "      <td>1.0</td>\n",
       "    </tr>\n",
       "    <tr>\n",
       "      <th>6351</th>\n",
       "      <td>In a paragraph, summarize the main idea(s) in ...</td>\n",
       "      <td>introduction to the course and statistics! int...</td>\n",
       "      <td>60ecb44a-0a36-4702-9cf4-1f390aba2dca</td>\n",
       "      <td>1.0</td>\n",
       "    </tr>\n",
       "    <tr>\n",
       "      <th>6352</th>\n",
       "      <td>In a paragraph, summarize the main idea(s) in ...</td>\n",
       "      <td>The main ideas of this chapter are that unders...</td>\n",
       "      <td>c60853dd-e235-477c-a811-be1c3606c7fa</td>\n",
       "      <td>1.0</td>\n",
       "    </tr>\n",
       "    <tr>\n",
       "      <th>...</th>\n",
       "      <td>...</td>\n",
       "      <td>...</td>\n",
       "      <td>...</td>\n",
       "      <td>...</td>\n",
       "    </tr>\n",
       "    <tr>\n",
       "      <th>1582918</th>\n",
       "      <td>To summarize, which SS goes with which distances?</td>\n",
       "      <td>[\"From data to complex model's prediction\", \"F...</td>\n",
       "      <td>faecb7cb-6b15-42fc-b0fb-ef2b512c751f</td>\n",
       "      <td>9.0</td>\n",
       "    </tr>\n",
       "    <tr>\n",
       "      <th>1582941</th>\n",
       "      <td>To summarize, which SS goes with which distances?</td>\n",
       "      <td>[\"From data to complex model's prediction\", \"F...</td>\n",
       "      <td>1784ab66-a261-4426-ba33-46c772d1449c</td>\n",
       "      <td>9.0</td>\n",
       "    </tr>\n",
       "    <tr>\n",
       "      <th>1582943</th>\n",
       "      <td>To summarize, which SS goes with which distances?</td>\n",
       "      <td>[\"From data to empty model's prediction\", \"Fro...</td>\n",
       "      <td>920a0c75-6a6c-4d60-8706-3f2bff322800</td>\n",
       "      <td>9.0</td>\n",
       "    </tr>\n",
       "    <tr>\n",
       "      <th>1582954</th>\n",
       "      <td>To summarize, which SS goes with which distances?</td>\n",
       "      <td>[\"From complex model's prediction to empty mod...</td>\n",
       "      <td>ab375b3d-ef49-4a55-af6c-92b587fda293</td>\n",
       "      <td>9.0</td>\n",
       "    </tr>\n",
       "    <tr>\n",
       "      <th>1582961</th>\n",
       "      <td>To summarize, which SS goes with which distances?</td>\n",
       "      <td>[\"From data to empty model's prediction\", \"Fro...</td>\n",
       "      <td>2b0e5422-d7ef-4161-9abe-3bc0f675e178</td>\n",
       "      <td>9.0</td>\n",
       "    </tr>\n",
       "  </tbody>\n",
       "</table>\n",
       "<p>10385 rows × 4 columns</p>\n",
       "</div>"
      ],
      "text/plain": [
       "                                                    prompt  \\\n",
       "6348     In a paragraph, summarize the main idea(s) in ...   \n",
       "6349     In a paragraph, summarize the main idea(s) in ...   \n",
       "6350     In a paragraph, summarize the main idea(s) in ...   \n",
       "6351     In a paragraph, summarize the main idea(s) in ...   \n",
       "6352     In a paragraph, summarize the main idea(s) in ...   \n",
       "...                                                    ...   \n",
       "1582918  To summarize, which SS goes with which distances?   \n",
       "1582941  To summarize, which SS goes with which distances?   \n",
       "1582943  To summarize, which SS goes with which distances?   \n",
       "1582954  To summarize, which SS goes with which distances?   \n",
       "1582961  To summarize, which SS goes with which distances?   \n",
       "\n",
       "                                                  response  \\\n",
       "6348     This chapter taught us the goals of this class...   \n",
       "6349     Statistical model\\nStatistics is profound by s...   \n",
       "6350     The thing to remember when coding in general i...   \n",
       "6351     introduction to the course and statistics! int...   \n",
       "6352     The main ideas of this chapter are that unders...   \n",
       "...                                                    ...   \n",
       "1582918  [\"From data to complex model's prediction\", \"F...   \n",
       "1582941  [\"From data to complex model's prediction\", \"F...   \n",
       "1582943  [\"From data to empty model's prediction\", \"Fro...   \n",
       "1582954  [\"From complex model's prediction to empty mod...   \n",
       "1582961  [\"From data to empty model's prediction\", \"Fro...   \n",
       "\n",
       "                                   student_id  chapter_number  \n",
       "6348     83df1b22-c83a-4412-8e27-1c113bd17907             1.0  \n",
       "6349     dee74669-b1ed-41df-bf06-177c5766071d             1.0  \n",
       "6350     1d4a6d2c-0cb1-4d19-9218-b673982e9f2f             1.0  \n",
       "6351     60ecb44a-0a36-4702-9cf4-1f390aba2dca             1.0  \n",
       "6352     c60853dd-e235-477c-a811-be1c3606c7fa             1.0  \n",
       "...                                       ...             ...  \n",
       "1582918  faecb7cb-6b15-42fc-b0fb-ef2b512c751f             9.0  \n",
       "1582941  1784ab66-a261-4426-ba33-46c772d1449c             9.0  \n",
       "1582943  920a0c75-6a6c-4d60-8706-3f2bff322800             9.0  \n",
       "1582954  ab375b3d-ef49-4a55-af6c-92b587fda293             9.0  \n",
       "1582961  2b0e5422-d7ef-4161-9abe-3bc0f675e178             9.0  \n",
       "\n",
       "[10385 rows x 4 columns]"
      ]
     },
     "metadata": {},
     "output_type": "display_data"
    },
    {
     "data": {
      "text/plain": [
       "(10385, 4)"
      ]
     },
     "execution_count": 4,
     "metadata": {},
     "output_type": "execute_result"
    }
   ],
   "source": [
    "display(filtered_df)\n",
    "filtered_df.shape"
   ]
  },
  {
   "cell_type": "code",
   "execution_count": 5,
   "id": "cd7067d2-6f9b-4b35-ad6a-d9a9171e39bb",
   "metadata": {},
   "outputs": [],
   "source": [
    "filtered_df[\"words\"] = filtered_df[\"response\"].str.split()\n",
    "filtered_df[\"length\"] = filtered_df[\"words\"].apply(lambda x: len(x) if isinstance(x, list) else 0)"
   ]
  },
  {
   "cell_type": "code",
   "execution_count": 6,
   "id": "212008ec-75f5-4b52-8e83-c10603c03b12",
   "metadata": {},
   "outputs": [
    {
     "data": {
      "text/html": [
       "<div>\n",
       "<style scoped>\n",
       "    .dataframe tbody tr th:only-of-type {\n",
       "        vertical-align: middle;\n",
       "    }\n",
       "\n",
       "    .dataframe tbody tr th {\n",
       "        vertical-align: top;\n",
       "    }\n",
       "\n",
       "    .dataframe thead th {\n",
       "        text-align: right;\n",
       "    }\n",
       "</style>\n",
       "<table border=\"1\" class=\"dataframe\">\n",
       "  <thead>\n",
       "    <tr style=\"text-align: right;\">\n",
       "      <th></th>\n",
       "      <th>prompt</th>\n",
       "      <th>response</th>\n",
       "      <th>student_id</th>\n",
       "      <th>chapter_number</th>\n",
       "      <th>words</th>\n",
       "      <th>length</th>\n",
       "    </tr>\n",
       "  </thead>\n",
       "  <tbody>\n",
       "    <tr>\n",
       "      <th>6348</th>\n",
       "      <td>In a paragraph, summarize the main idea(s) in ...</td>\n",
       "      <td>This chapter taught us the goals of this class...</td>\n",
       "      <td>83df1b22-c83a-4412-8e27-1c113bd17907</td>\n",
       "      <td>1.0</td>\n",
       "      <td>[This, chapter, taught, us, the, goals, of, th...</td>\n",
       "      <td>55</td>\n",
       "    </tr>\n",
       "    <tr>\n",
       "      <th>6349</th>\n",
       "      <td>In a paragraph, summarize the main idea(s) in ...</td>\n",
       "      <td>Statistical model\\nStatistics is profound by s...</td>\n",
       "      <td>dee74669-b1ed-41df-bf06-177c5766071d</td>\n",
       "      <td>1.0</td>\n",
       "      <td>[Statistical, model, Statistics, is, profound,...</td>\n",
       "      <td>21</td>\n",
       "    </tr>\n",
       "    <tr>\n",
       "      <th>6350</th>\n",
       "      <td>In a paragraph, summarize the main idea(s) in ...</td>\n",
       "      <td>The thing to remember when coding in general i...</td>\n",
       "      <td>1d4a6d2c-0cb1-4d19-9218-b673982e9f2f</td>\n",
       "      <td>1.0</td>\n",
       "      <td>[The, thing, to, remember, when, coding, in, g...</td>\n",
       "      <td>179</td>\n",
       "    </tr>\n",
       "    <tr>\n",
       "      <th>6351</th>\n",
       "      <td>In a paragraph, summarize the main idea(s) in ...</td>\n",
       "      <td>introduction to the course and statistics! int...</td>\n",
       "      <td>60ecb44a-0a36-4702-9cf4-1f390aba2dca</td>\n",
       "      <td>1.0</td>\n",
       "      <td>[introduction, to, the, course, and, statistic...</td>\n",
       "      <td>22</td>\n",
       "    </tr>\n",
       "    <tr>\n",
       "      <th>6352</th>\n",
       "      <td>In a paragraph, summarize the main idea(s) in ...</td>\n",
       "      <td>The main ideas of this chapter are that unders...</td>\n",
       "      <td>c60853dd-e235-477c-a811-be1c3606c7fa</td>\n",
       "      <td>1.0</td>\n",
       "      <td>[The, main, ideas, of, this, chapter, are, tha...</td>\n",
       "      <td>90</td>\n",
       "    </tr>\n",
       "    <tr>\n",
       "      <th>...</th>\n",
       "      <td>...</td>\n",
       "      <td>...</td>\n",
       "      <td>...</td>\n",
       "      <td>...</td>\n",
       "      <td>...</td>\n",
       "      <td>...</td>\n",
       "    </tr>\n",
       "    <tr>\n",
       "      <th>1582918</th>\n",
       "      <td>To summarize, which SS goes with which distances?</td>\n",
       "      <td>[\"From data to complex model's prediction\", \"F...</td>\n",
       "      <td>faecb7cb-6b15-42fc-b0fb-ef2b512c751f</td>\n",
       "      <td>9.0</td>\n",
       "      <td>[[\"From, data, to, complex, model's, predictio...</td>\n",
       "      <td>20</td>\n",
       "    </tr>\n",
       "    <tr>\n",
       "      <th>1582941</th>\n",
       "      <td>To summarize, which SS goes with which distances?</td>\n",
       "      <td>[\"From data to complex model's prediction\", \"F...</td>\n",
       "      <td>1784ab66-a261-4426-ba33-46c772d1449c</td>\n",
       "      <td>9.0</td>\n",
       "      <td>[[\"From, data, to, complex, model's, predictio...</td>\n",
       "      <td>20</td>\n",
       "    </tr>\n",
       "    <tr>\n",
       "      <th>1582943</th>\n",
       "      <td>To summarize, which SS goes with which distances?</td>\n",
       "      <td>[\"From data to empty model's prediction\", \"Fro...</td>\n",
       "      <td>920a0c75-6a6c-4d60-8706-3f2bff322800</td>\n",
       "      <td>9.0</td>\n",
       "      <td>[[\"From, data, to, empty, model's, prediction\"...</td>\n",
       "      <td>20</td>\n",
       "    </tr>\n",
       "    <tr>\n",
       "      <th>1582954</th>\n",
       "      <td>To summarize, which SS goes with which distances?</td>\n",
       "      <td>[\"From complex model's prediction to empty mod...</td>\n",
       "      <td>ab375b3d-ef49-4a55-af6c-92b587fda293</td>\n",
       "      <td>9.0</td>\n",
       "      <td>[[\"From, complex, model's, prediction, to, emp...</td>\n",
       "      <td>20</td>\n",
       "    </tr>\n",
       "    <tr>\n",
       "      <th>1582961</th>\n",
       "      <td>To summarize, which SS goes with which distances?</td>\n",
       "      <td>[\"From data to empty model's prediction\", \"Fro...</td>\n",
       "      <td>2b0e5422-d7ef-4161-9abe-3bc0f675e178</td>\n",
       "      <td>9.0</td>\n",
       "      <td>[[\"From, data, to, empty, model's, prediction\"...</td>\n",
       "      <td>20</td>\n",
       "    </tr>\n",
       "  </tbody>\n",
       "</table>\n",
       "<p>10385 rows × 6 columns</p>\n",
       "</div>"
      ],
      "text/plain": [
       "                                                    prompt  \\\n",
       "6348     In a paragraph, summarize the main idea(s) in ...   \n",
       "6349     In a paragraph, summarize the main idea(s) in ...   \n",
       "6350     In a paragraph, summarize the main idea(s) in ...   \n",
       "6351     In a paragraph, summarize the main idea(s) in ...   \n",
       "6352     In a paragraph, summarize the main idea(s) in ...   \n",
       "...                                                    ...   \n",
       "1582918  To summarize, which SS goes with which distances?   \n",
       "1582941  To summarize, which SS goes with which distances?   \n",
       "1582943  To summarize, which SS goes with which distances?   \n",
       "1582954  To summarize, which SS goes with which distances?   \n",
       "1582961  To summarize, which SS goes with which distances?   \n",
       "\n",
       "                                                  response  \\\n",
       "6348     This chapter taught us the goals of this class...   \n",
       "6349     Statistical model\\nStatistics is profound by s...   \n",
       "6350     The thing to remember when coding in general i...   \n",
       "6351     introduction to the course and statistics! int...   \n",
       "6352     The main ideas of this chapter are that unders...   \n",
       "...                                                    ...   \n",
       "1582918  [\"From data to complex model's prediction\", \"F...   \n",
       "1582941  [\"From data to complex model's prediction\", \"F...   \n",
       "1582943  [\"From data to empty model's prediction\", \"Fro...   \n",
       "1582954  [\"From complex model's prediction to empty mod...   \n",
       "1582961  [\"From data to empty model's prediction\", \"Fro...   \n",
       "\n",
       "                                   student_id  chapter_number  \\\n",
       "6348     83df1b22-c83a-4412-8e27-1c113bd17907             1.0   \n",
       "6349     dee74669-b1ed-41df-bf06-177c5766071d             1.0   \n",
       "6350     1d4a6d2c-0cb1-4d19-9218-b673982e9f2f             1.0   \n",
       "6351     60ecb44a-0a36-4702-9cf4-1f390aba2dca             1.0   \n",
       "6352     c60853dd-e235-477c-a811-be1c3606c7fa             1.0   \n",
       "...                                       ...             ...   \n",
       "1582918  faecb7cb-6b15-42fc-b0fb-ef2b512c751f             9.0   \n",
       "1582941  1784ab66-a261-4426-ba33-46c772d1449c             9.0   \n",
       "1582943  920a0c75-6a6c-4d60-8706-3f2bff322800             9.0   \n",
       "1582954  ab375b3d-ef49-4a55-af6c-92b587fda293             9.0   \n",
       "1582961  2b0e5422-d7ef-4161-9abe-3bc0f675e178             9.0   \n",
       "\n",
       "                                                     words  length  \n",
       "6348     [This, chapter, taught, us, the, goals, of, th...      55  \n",
       "6349     [Statistical, model, Statistics, is, profound,...      21  \n",
       "6350     [The, thing, to, remember, when, coding, in, g...     179  \n",
       "6351     [introduction, to, the, course, and, statistic...      22  \n",
       "6352     [The, main, ideas, of, this, chapter, are, tha...      90  \n",
       "...                                                    ...     ...  \n",
       "1582918  [[\"From, data, to, complex, model's, predictio...      20  \n",
       "1582941  [[\"From, data, to, complex, model's, predictio...      20  \n",
       "1582943  [[\"From, data, to, empty, model's, prediction\"...      20  \n",
       "1582954  [[\"From, complex, model's, prediction, to, emp...      20  \n",
       "1582961  [[\"From, data, to, empty, model's, prediction\"...      20  \n",
       "\n",
       "[10385 rows x 6 columns]"
      ]
     },
     "metadata": {},
     "output_type": "display_data"
    },
    {
     "name": "stdout",
     "output_type": "stream",
     "text": [
      "<class 'pandas.core.frame.DataFrame'>\n",
      "Index: 10385 entries, 6348 to 1582961\n",
      "Data columns (total 6 columns):\n",
      " #   Column          Non-Null Count  Dtype  \n",
      "---  ------          --------------  -----  \n",
      " 0   prompt          10385 non-null  object \n",
      " 1   response        10356 non-null  object \n",
      " 2   student_id      10385 non-null  object \n",
      " 3   chapter_number  10385 non-null  float64\n",
      " 4   words           10356 non-null  object \n",
      " 5   length          10385 non-null  int64  \n",
      "dtypes: float64(1), int64(1), object(4)\n",
      "memory usage: 567.9+ KB\n"
     ]
    }
   ],
   "source": [
    "display(filtered_df)\n",
    "filtered_df.info()"
   ]
  },
  {
   "cell_type": "code",
   "execution_count": 7,
   "id": "bad432ad-c38c-4849-a70f-64d7dbf3be2b",
   "metadata": {},
   "outputs": [
    {
     "name": "stdout",
     "output_type": "stream",
     "text": [
      "student_id                            chapter_number\n",
      "001824fb-a2fd-431d-aef6-7a1250d97a62  1.0               131\n",
      "                                      2.0                91\n",
      "                                      3.0                65\n",
      "                                      5.0                71\n",
      "                                      6.0                73\n",
      "Name: length, dtype: int64\n"
     ]
    },
    {
     "data": {
      "text/plain": [
       "pandas.core.series.Series"
      ]
     },
     "execution_count": 7,
     "metadata": {},
     "output_type": "execute_result"
    }
   ],
   "source": [
    "length_summaries = filtered_df.groupby(['student_id', 'chapter_number'])['length'].sum()\n",
    "print(length_summaries.head())\n",
    "type(length_summaries)"
   ]
  },
  {
   "cell_type": "code",
   "execution_count": 8,
   "id": "8664ff30-5f31-4d7f-8b40-53043d8d683d",
   "metadata": {},
   "outputs": [],
   "source": [
    "#export data\n",
    "\n",
    "import os\n",
    "subfolder = 'random subset of data files'\n",
    "filename = 'length_series.csv'\n",
    "filepath = os.path.join(subfolder, filename)\n",
    "length_summaries.to_csv(filepath)"
   ]
  },
  {
   "cell_type": "code",
   "execution_count": 9,
   "id": "c8003178-d8fe-4da0-bb5c-d3fe76544898",
   "metadata": {},
   "outputs": [],
   "source": [
    "def calculate_lexical_density(text):\n",
    "    # Tokenize the text into words\n",
    "    words = word_tokenize(text)\n",
    "\n",
    "    # Remove stopwords\n",
    "    stop_words = set(stopwords.words('english'))\n",
    "    filtered_words = [word.lower() for word in words if word.isalpha() and word.lower() not in stop_words]\n",
    "\n",
    "    # Calculate lexical density (normalized)\n",
    "    unique_words = set(filtered_words)\n",
    "    \n",
    "    # Handle the case of one-word texts\n",
    "    if len(words) <= 5:\n",
    "        lexical_density = 0\n",
    "    else:\n",
    "        lexical_density = len(unique_words) / len(words) if len(words) > 0 else 0\n",
    "\n",
    "    return lexical_density\n",
    "\n",
    "def calc_grammatical_score(text):\n",
    "    tokens = word_tokenize(text)\n",
    "    pos_tags = pos_tag(tokens)\n",
    "\n",
    "    # Calculate part-of-speech diversity\n",
    "    pos_set = set(tag for word, tag in pos_tags)\n",
    "    pos_diversity = len(pos_set) / len(tokens)\n",
    "    return pos_diversity\n",
    "    "
   ]
  },
  {
   "cell_type": "code",
   "execution_count": 10,
   "id": "44a4ca5c-2bda-48cd-82a7-cfcf17993fcd",
   "metadata": {},
   "outputs": [],
   "source": [
    "filtered_df[\"density_score\"] = filtered_df[\"response\"].apply(lambda x: calculate_lexical_density(x) if isinstance(x, str) else 0)\n",
    "filtered_df[\"grammatical_score\"] = filtered_df[\"response\"].apply(lambda x: calc_grammatical_score(x) if isinstance(x, str) else 0)\n",
    "\n",
    "average_density = filtered_df.groupby('student_id')['density_score'].apply(lambda x: x.mean() if x.dtype == 'float64' else 0).reset_index(name='average_density')\n",
    "average_length = filtered_df.groupby('student_id')['length'].apply(lambda x: x.mean() if x.dtype == 'int64' else 0).reset_index(name='average_length')\n",
    "average_gram = filtered_df.groupby('student_id')['grammatical_score'].apply(lambda x: x.mean() if x.dtype == 'float64' else 0).reset_index(name='average_gram')"
   ]
  },
  {
   "cell_type": "code",
   "execution_count": 11,
   "id": "d060a12f-ce1f-48f3-90e3-2651a89d2048",
   "metadata": {},
   "outputs": [
    {
     "name": "stdout",
     "output_type": "stream",
     "text": [
      "                                student_id  average_length\n",
      "0     001824fb-a2fd-431d-aef6-7a1250d97a62       97.100000\n",
      "1     0096491a-77bf-4e79-b906-fc7a8e5e57a6      152.900000\n",
      "2     00a53a52-aa0e-4ddc-afa8-2c50c21dfd03       36.333333\n",
      "3     00fe5bb2-6b64-4a36-a706-eac4dc124ea7       82.300000\n",
      "4     016e2fcf-0cc2-42ad-844d-e1057b5081cc      210.000000\n",
      "...                                    ...             ...\n",
      "1481  fecc783d-1cd1-4940-aa16-695c4652a536      147.000000\n",
      "1482  fecf18d0-a58a-4d11-a353-ea73fbfa6860       47.111111\n",
      "1483  fef083e8-7167-4f42-82d5-d2e893aa408a       30.666667\n",
      "1484  ff55bab4-812b-405b-9856-8bedf9fb11f9       90.300000\n",
      "1485  ff6ec9fe-de1d-4b45-8136-59465d9c85ab       45.000000\n",
      "\n",
      "[1486 rows x 2 columns]\n"
     ]
    }
   ],
   "source": [
    "print(average_length)"
   ]
  },
  {
   "cell_type": "code",
   "execution_count": 12,
   "id": "b092f3f4-3234-4e43-8e88-c2ff2baaec28",
   "metadata": {},
   "outputs": [],
   "source": [
    "x = average_density[\"average_density\"]\n",
    "average_score = check_df.groupby('student_id')['n_correct'].apply(lambda x: x.mean() if x.dtype == 'float64' else 0).reset_index(name='average_score')\n",
    "y = average_score[\"average_score\"]\n"
   ]
  },
  {
   "cell_type": "code",
   "execution_count": 13,
   "id": "54a4e6ae-41f4-4178-b462-f677b059d9dc",
   "metadata": {},
   "outputs": [],
   "source": [
    "result = pd.merge(average_score, average_density, on='student_id', how='inner').fillna(0)\n",
    "x = result[\"average_density\"]\n",
    "y = result[\"average_score\"]"
   ]
  },
  {
   "cell_type": "code",
   "execution_count": 14,
   "id": "097803d4-c989-4284-a921-dbc04a4d304b",
   "metadata": {},
   "outputs": [
    {
     "data": {
      "text/plain": [
       "<matplotlib.collections.PathCollection at 0x2919eba10>"
      ]
     },
     "execution_count": 14,
     "metadata": {},
     "output_type": "execute_result"
    },
    {
     "data": {
      "image/png": "[encoded data removed]",
      "text/plain": [
       "<Figure size 640x480 with 1 Axes>"
      ]
     },
     "metadata": {},
     "output_type": "display_data"
    }
   ],
   "source": [
    "plt.scatter(x, y)"
   ]
  },
  {
   "cell_type": "code",
   "execution_count": 15,
   "id": "0232dc60-2948-495f-835c-5b16b1600627",
   "metadata": {},
   "outputs": [
    {
     "ename": "NameError",
     "evalue": "name 'poly_model' is not defined",
     "output_type": "error",
     "traceback": [
      "\u001b[0;31m---------------------------------------------------------------------------\u001b[0m",
      "\u001b[0;31mNameError\u001b[0m                                 Traceback (most recent call last)",
      "Cell \u001b[0;32mIn[15], line 2\u001b[0m\n\u001b[1;32m      1\u001b[0m \u001b[38;5;66;03m# Predict on the original data\u001b[39;00m\n\u001b[0;32m----> 2\u001b[0m y_pred \u001b[38;5;241m=\u001b[39m \u001b[43mpoly_model\u001b[49m\u001b[38;5;241m.\u001b[39mpredict(z[:, np\u001b[38;5;241m.\u001b[39mnewaxis])\n\u001b[1;32m      4\u001b[0m \u001b[38;5;66;03m# Plot the polynomial fit\u001b[39;00m\n\u001b[1;32m      5\u001b[0m plt\u001b[38;5;241m.\u001b[39mplot(z, y_pred, color\u001b[38;5;241m=\u001b[39m\u001b[38;5;124m'\u001b[39m\u001b[38;5;124mred\u001b[39m\u001b[38;5;124m'\u001b[39m, label\u001b[38;5;241m=\u001b[39m\u001b[38;5;124mf\u001b[39m\u001b[38;5;124m'\u001b[39m\u001b[38;5;124mPolynomial Fit (Degree \u001b[39m\u001b[38;5;132;01m{\u001b[39;00mdegree\u001b[38;5;132;01m}\u001b[39;00m\u001b[38;5;124m)\u001b[39m\u001b[38;5;124m'\u001b[39m)\n",
      "\u001b[0;31mNameError\u001b[0m: name 'poly_model' is not defined"
     ]
    }
   ],
   "source": [
    "# Predict on the original data\n",
    "y_pred = poly_model.predict(z[:, np.newaxis])\n",
    "\n",
    "# Plot the polynomial fit\n",
    "plt.plot(z, y_pred, color='red', label=f'Polynomial Fit (Degree {degree})')\n",
    "\n",
    "# Add labels and legend\n",
    "plt.xlabel('Average Length')\n",
    "plt.ylabel('Average Score')\n",
    "plt.legend()\n",
    "\n",
    "# Show the plot\n",
    "plt.show()\n",
    "\n",
    "# Show the plot\n",
    "plt.show()"
   ]
  },
  {
   "cell_type": "code",
   "execution_count": null,
   "id": "1dd2358f-db59-41c9-8248-baf7f8aadef4",
   "metadata": {},
   "outputs": [],
   "source": [
    "result1 = pd.merge(average_score, average_gram, on='student_id', how='inner').fillna(0)\n",
    "a = result1[\"average_gram\"]\n",
    "y = result1[\"average_score\"]\n",
    "plt.scatter(a, y)"
   ]
  },
  {
   "cell_type": "code",
   "execution_count": null,
   "id": "d14342cc-6633-4654-9896-5a124ff0d8f3",
   "metadata": {},
   "outputs": [],
   "source": []
  }
 ],
 "metadata": {
  "kernelspec": {
   "display_name": "Python 3 (ipykernel)",
   "language": "python",
   "name": "python3"
  },
  "language_info": {
   "codemirror_mode": {
    "name": "ipython",
    "version": 3
   },
   "file_extension": ".py",
   "mimetype": "text/x-python",
   "name": "python",
   "nbconvert_exporter": "python",
   "pygments_lexer": "ipython3",
   "version": "3.11.5"
  }
 },
 "nbformat": 4,
 "nbformat_minor": 5
}
